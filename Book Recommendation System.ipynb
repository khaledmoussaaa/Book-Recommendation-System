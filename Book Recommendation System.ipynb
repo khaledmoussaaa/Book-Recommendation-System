{
 "cells": [
  {
   "cell_type": "markdown",
   "id": "3c69b39f",
   "metadata": {},
   "source": [
    "# Imports"
   ]
  },
  {
   "cell_type": "code",
   "execution_count": null,
   "id": "b77ba064",
   "metadata": {},
   "outputs": [],
   "source": [
    "##Imports Libraries using in my project\n",
    "import numpy as np\n",
    "import pandas as pd\n",
    "import seaborn as sns\n",
    "import matplotlib.pyplot as plt"
   ]
  },
  {
   "cell_type": "code",
   "execution_count": null,
   "id": "6d1258cf",
   "metadata": {},
   "outputs": [],
   "source": [
    "##Read Books.Csv and show them\n",
    "booksDataset = pd.read_csv('dataset/Books.csv')\n",
    "booksDataset.head()"
   ]
  },
  {
   "cell_type": "markdown",
   "id": "6afe6291",
   "metadata": {},
   "source": [
    "## Clearing Dataset"
   ]
  },
  {
   "cell_type": "code",
   "execution_count": null,
   "id": "bfbcdf1e",
   "metadata": {},
   "outputs": [],
   "source": [
    "##Counts Null Values\n",
    "booksDataset.isnull().sum()"
   ]
  },
  {
   "cell_type": "code",
   "execution_count": null,
   "id": "4b55e7f5",
   "metadata": {},
   "outputs": [],
   "source": [
    "booksDataset=booksDataset.dropna() ##Remove all null values in dataset\n",
    "booksDataset.isnull().sum()##Display dataset after removing null values"
   ]
  },
  {
   "cell_type": "code",
   "execution_count": null,
   "id": "4edd7081",
   "metadata": {},
   "outputs": [],
   "source": [
    "##Display formate type for each columns in dataset\n",
    "booksDataset.info()"
   ]
  },
  {
   "cell_type": "code",
   "execution_count": null,
   "id": "5574d3d9",
   "metadata": {},
   "outputs": [],
   "source": [
    "##Describe columns in dataset\n",
    "booksDataset.describe()"
   ]
  },
  {
   "cell_type": "code",
   "execution_count": null,
   "id": "2cdd0cc0",
   "metadata": {},
   "outputs": [],
   "source": [
    "##Sorting average rating in descending order\n",
    "booksDataset = booksDataset.sort_values('average_rating')\n",
    "##Reset index from 0 in average rating\n",
    "booksDataset = booksDataset.reset_index()\n",
    "booksDataset"
   ]
  },
  {
   "cell_type": "code",
   "execution_count": null,
   "id": "5dd419b3",
   "metadata": {},
   "outputs": [],
   "source": [
    "##Casting type of average_Rating columns to float type\n",
    "booksDataset.average_rating = booksDataset.average_rating.astype(float)"
   ]
  },
  {
   "cell_type": "code",
   "execution_count": null,
   "id": "1e641ca2",
   "metadata": {},
   "outputs": [],
   "source": [
    "##Display First 50 Heading in Books Datasets\n",
    "booksDataset.tail(50)"
   ]
  },
  {
   "cell_type": "code",
   "execution_count": null,
   "id": "3f3b4bb5",
   "metadata": {},
   "outputs": [],
   "source": [
    "##Sorting average rating in descending order\n",
    "booksDataset = booksDataset.sort_values('num_pages')\n",
    "booksDataset"
   ]
  },
  {
   "cell_type": "markdown",
   "id": "04bb995e",
   "metadata": {},
   "source": [
    "# Data Vaisualization Graphs"
   ]
  },
  {
   "cell_type": "code",
   "execution_count": null,
   "id": "07a1f14e",
   "metadata": {},
   "outputs": [],
   "source": [
    "plt.figure(figsize=(20,20))\n",
    "ax = sns.relplot(data=booksDataset, x=\"average_rating\", y=\"ratings_count\",sizes=(400,200), height=7)\n",
    "plt.title('The Relation Between Rating Counts & Average Rating')\n",
    "ax.set_axis_labels(\"average_rating\", \"ratings_count\")"
   ]
  },
  {
   "cell_type": "code",
   "execution_count": null,
   "id": "9d0938ee",
   "metadata": {},
   "outputs": [],
   "source": [
    "##Top 10 Books\n",
    "top_ten_books = booksDataset[booksDataset['ratings_count']>1000000]\n",
    "top_ten_books = top_ten_books.sort_values(by='ratings_count', ascending=False).head(10)\n",
    "\n",
    "top_ten_books_rating = top_ten_books.sort_values(by='average_rating', ascending=False)\n",
    "\n",
    "plt.style.use('seaborn-whitegrid')\n",
    "plt.figure(figsize=(8,8))\n",
    "sns.barplot(x=\"average_rating\", y=\"title\", data = top_ten_books_rating, palette='inferno')"
   ]
  },
  {
   "cell_type": "code",
   "execution_count": null,
   "id": "b00d3ba5",
   "metadata": {},
   "outputs": [],
   "source": [
    "##Display formate type for each columns in dataset\n",
    "booksDataset.info()"
   ]
  },
  {
   "cell_type": "code",
   "execution_count": null,
   "id": "a56c980c",
   "metadata": {},
   "outputs": [],
   "source": [
    "##Casting type of num_pages columns to float type\n",
    "booksDataset.num_pages = booksDataset.num_pages.astype(float)\n",
    "booksDataset.info()"
   ]
  },
  {
   "cell_type": "code",
   "execution_count": null,
   "id": "53d1d6a1",
   "metadata": {},
   "outputs": [],
   "source": [
    "##Top 50 Books\n",
    "top_fifty_books = booksDataset[booksDataset['ratings_count']>10000]\n",
    "top_fifty_books = top_ten_books.sort_values(by='ratings_count', ascending=False).head(50)\n",
    "top_fifty_books_rating = top_ten_books.sort_values(by='average_rating', ascending=False)\n",
    "top_fifty = top_fifty_books_rating.title\n",
    "top_fifty"
   ]
  },
  {
   "cell_type": "markdown",
   "id": "09f22f96",
   "metadata": {},
   "source": [
    "# Data Prepration"
   ]
  },
  {
   "cell_type": "code",
   "execution_count": null,
   "id": "d26014c0",
   "metadata": {},
   "outputs": [],
   "source": [
    "##Copy dataset in new variablea\n",
    "booksDataset_2 = booksDataset.copy()"
   ]
  },
  {
   "cell_type": "code",
   "execution_count": null,
   "id": "509fdc0f",
   "metadata": {},
   "outputs": [],
   "source": [
    "##Adjst average ratings\n",
    "booksDataset_2.loc[(booksDataset_2['average_rating']>=0)& (booksDataset_2['average_rating']<=1),'rating between']=\"between 0 and 1\"\n",
    "booksDataset_2.loc[(booksDataset_2['average_rating']>1) & (booksDataset_2['average_rating']<=2),'rating between']=\"between 1 and 2\"\n",
    "booksDataset_2.loc[(booksDataset_2['average_rating']>2) & (booksDataset_2['average_rating']<=3),'rating between']=\"between 2 and 3\"\n",
    "booksDataset_2.loc[(booksDataset_2['average_rating']>3) & (booksDataset_2['average_rating']<=4),'rating between']=\"between 3 and 4\"\n",
    "booksDataset_2.loc[(booksDataset_2['average_rating']>4) & (booksDataset_2['average_rating']<=5),'rating between']=\"between 4 and 5\""
   ]
  },
  {
   "cell_type": "code",
   "execution_count": null,
   "id": "a78454b6",
   "metadata": {},
   "outputs": [],
   "source": [
    "##Sorting average rating in descending order\n",
    "booksDataset_2.sort_values('average_rating')"
   ]
  },
  {
   "cell_type": "code",
   "execution_count": null,
   "id": "99bcc3c6",
   "metadata": {},
   "outputs": [],
   "source": [
    "booksDataset_rating = pd.get_dummies(booksDataset_2['rating between'])\n",
    "booksDataset_categories = pd.get_dummies(booksDataset_2['categories'])"
   ]
  },
  {
   "cell_type": "code",
   "execution_count": null,
   "id": "26ce433f",
   "metadata": {},
   "outputs": [],
   "source": [
    "##Display ratings between\n",
    "booksDataset_rating"
   ]
  },
  {
   "cell_type": "code",
   "execution_count": null,
   "id": "fa2eae4d",
   "metadata": {},
   "outputs": [],
   "source": [
    "##Display categories\n",
    "booksDataset_categories"
   ]
  },
  {
   "cell_type": "code",
   "execution_count": null,
   "id": "8720f3b7",
   "metadata": {},
   "outputs": [],
   "source": [
    "feature = pd.concat([booksDataset_rating, booksDataset_categories, booksDataset_2['average_rating'], booksDataset_2['categories']], axis=1)"
   ]
  },
  {
   "cell_type": "code",
   "execution_count": null,
   "id": "6f214206",
   "metadata": {},
   "outputs": [],
   "source": [
    "feature.drop(['categories'], axis='columns', inplace=True)\n",
    "feature"
   ]
  },
  {
   "cell_type": "code",
   "execution_count": null,
   "id": "b1dac535",
   "metadata": {},
   "outputs": [],
   "source": [
    "feature.info()"
   ]
  },
  {
   "cell_type": "markdown",
   "id": "c60b7d02",
   "metadata": {},
   "source": [
    "# Building Book Recommendation System"
   ]
  },
  {
   "cell_type": "code",
   "execution_count": null,
   "id": "07e54a6e",
   "metadata": {},
   "outputs": [],
   "source": [
    "from sklearn import neighbors\n",
    "from sklearn.model_selection import train_test_split\n",
    "\n",
    "model = neighbors.NearestNeighbors(n_neighbors=8, algorithm='ball_tree')\n",
    "model.fit(feature)\n",
    "dist, idlist=model.kneighbors(feature)"
   ]
  },
  {
   "cell_type": "code",
   "execution_count": null,
   "id": "b87badeb",
   "metadata": {},
   "outputs": [],
   "source": [
    "dist"
   ]
  },
  {
   "cell_type": "code",
   "execution_count": null,
   "id": "75b669fe",
   "metadata": {},
   "outputs": [],
   "source": [
    "idlist"
   ]
  },
  {
   "cell_type": "markdown",
   "id": "456a96e5",
   "metadata": {},
   "source": [
    "### Tesing Samples "
   ]
  },
  {
   "cell_type": "code",
   "execution_count": null,
   "id": "a2fcf1ac",
   "metadata": {},
   "outputs": [],
   "source": [
    "def bookRecom(name):\n",
    "    book_list=[]\n",
    "    book_id = booksDataset_2[booksDataset_2['title']==name].index\n",
    "    book_id = book_id[0]\n",
    "    for new in idlist[book_id]:\n",
    "        book_list.append(booksDataset_2.loc[new].title)\n",
    "        book_list.append(booksDataset_2.loc[new].thumbnail)\n",
    "    return book_list\n",
    "\n",
    "bookRecommendation = bookRecom(\"Open City 6\")\n",
    "bookRecommendation"
   ]
  },
  {
   "cell_type": "markdown",
   "id": "c84bd3a8",
   "metadata": {},
   "source": [
    "## Import Flask to running in HTML Page"
   ]
  },
  {
   "cell_type": "code",
   "execution_count": null,
   "id": "af3d179b",
   "metadata": {},
   "outputs": [],
   "source": [
    "import requests\n",
    "import sys\n",
    "from flask import Flask, render_template, request\n",
    "app = Flask(__name__, template_folder='templates')"
   ]
  },
  {
   "cell_type": "code",
   "execution_count": null,
   "id": "142d3f12",
   "metadata": {},
   "outputs": [],
   "source": [
    "@app.route('/', methods=['GET', 'POST'])\n",
    "def index():\n",
    "    errors = []\n",
    "    results = []\n",
    "    if request.method == \"POST\":\n",
    "        try:\n",
    "            url = request.form['q']\n",
    "            if url.strip()==\"\":\n",
    "                    errors.append(\"Please enter a word or a book name.\")\n",
    "                    print(errors)\n",
    "            else:\n",
    "                for i in range(len(booksDataset)):\n",
    "                    if (url.lower() in booksDataset['title'][i].lower()):\n",
    "                        Book_name = bookRecom(booksDataset['title'][i])\n",
    "                        break\n",
    "                results.append(Book_name)\n",
    "        except:\n",
    "            errors.append(\n",
    "                \"The current word or book not matching, Please try another word or another book.\"\n",
    "            )\n",
    "            print(errors)\n",
    "    return render_template('homePage.html', errors=errors, results=results)"
   ]
  },
  {
   "cell_type": "code",
   "execution_count": null,
   "id": "6391bca1",
   "metadata": {},
   "outputs": [],
   "source": [
    "if __name__ == '__main__':\n",
    "    app.run(debug=True, use_reloader=False)"
   ]
  }
 ],
 "metadata": {
  "kernelspec": {
   "display_name": "Python 3",
   "language": "python",
   "name": "python3"
  },
  "language_info": {
   "codemirror_mode": {
    "name": "ipython",
    "version": 3
   },
   "file_extension": ".py",
   "mimetype": "text/x-python",
   "name": "python",
   "nbconvert_exporter": "python",
   "pygments_lexer": "ipython3",
   "version": "3.8.8"
  }
 },
 "nbformat": 4,
 "nbformat_minor": 5
}
